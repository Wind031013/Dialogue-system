{
 "cells": [
  {
   "cell_type": "code",
   "execution_count": 16,
   "id": "2246730a",
   "metadata": {},
   "outputs": [],
   "source": [
    "import json"
   ]
  },
  {
   "cell_type": "code",
   "execution_count": 17,
   "id": "7482b895",
   "metadata": {},
   "outputs": [],
   "source": [
    "data_path = r\"E:\\paper\\train_data\\data.json\"\n",
    "output_path = r\"E:\\paper\\train_data\\data_head_revise.json\"\n",
    "with open(data_path, 'r', encoding='utf-8') as f:\n",
    "    train_data = json.load(f)"
   ]
  },
  {
   "cell_type": "code",
   "execution_count": 18,
   "id": "23d0b00d",
   "metadata": {},
   "outputs": [
    {
     "name": "stdout",
     "output_type": "stream",
     "text": [
      "215\n"
     ]
    }
   ],
   "source": [
    "data_num = 0\n",
    "for i in range(len(train_data)):\n",
    "    data_num += len(train_data[i]['conversations'])\n",
    "    \n",
    "print(data_num)"
   ]
  },
  {
   "cell_type": "code",
   "execution_count": 19,
   "id": "31bdbca3",
   "metadata": {},
   "outputs": [],
   "source": [
    "for data in train_data:\n",
    "    for conversation in data['conversations']:\n",
    "        contents = list(conversation.values())\n",
    "        if len(contents) >= 2:\n",
    "            conversation.clear()\n",
    "            conversation['user'] = contents[0]\n",
    "            conversation['assistant'] = contents[1]"
   ]
  },
  {
   "cell_type": "code",
   "execution_count": 20,
   "id": "952e55d5",
   "metadata": {},
   "outputs": [],
   "source": [
    "with open(output_path, 'w', encoding='utf-8') as f:\n",
    "    json.dump(train_data, f, ensure_ascii=False, indent=4)"
   ]
  }
 ],
 "metadata": {
  "kernelspec": {
   "display_name": "yaolao",
   "language": "python",
   "name": "python3"
  },
  "language_info": {
   "codemirror_mode": {
    "name": "ipython",
    "version": 3
   },
   "file_extension": ".py",
   "mimetype": "text/x-python",
   "name": "python",
   "nbconvert_exporter": "python",
   "pygments_lexer": "ipython3",
   "version": "3.10.18"
  }
 },
 "nbformat": 4,
 "nbformat_minor": 5
}

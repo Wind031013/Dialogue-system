{
 "cells": [
  {
   "cell_type": "code",
   "execution_count": 20,
   "id": "15a8549a",
   "metadata": {},
   "outputs": [],
   "source": [
    "import os\n",
    "\n",
    "DB_PATH = r'./data.db'\n",
    "DATA_DIR_PATH = r\"E:\\paper\\data_no_ads\"\n",
    "EMBEDDING_MODEL_PATH = r\"C:\\Users\\wind\\.cache\\modelscope\\hub\\models\\Qwen\\Qwen3-Embedding-0___6B\"\n",
    "CROSSENCODER_MODEL_PATH = r\"BAAI/bge-reranker-v2-m3\""
   ]
  },
  {
   "cell_type": "code",
   "execution_count": 21,
   "id": "e1d0876e",
   "metadata": {},
   "outputs": [],
   "source": [
    "def split_into_chunks(data_path):\n",
    "    try:\n",
    "        with open(data_path, 'r', encoding='utf-8') as f:\n",
    "            data = f.readlines()\n",
    "        data = data[2:-1]\n",
    "        chunks = [''.join(data[i:i+5]) for i in range(0,len(data),5)]\n",
    "        return chunks\n",
    "    except FileNotFoundError:\n",
    "        print(f\"文件 {data_path} 不存在\")\n",
    "        return None\n",
    "    \n",
    "def get_dir_count(path = DATA_DIR_PATH):\n",
    "    try:\n",
    "        count = 0\n",
    "        with os.scandir(path) as entries:\n",
    "            for entry in entries:\n",
    "                if entry.is_file() and entry.name.startswith('data_') and entry.name.endswith('.txt'):\n",
    "                    count += 1\n",
    "        return count\n",
    "    except FileNotFoundError:\n",
    "        print(f\"文件夹 {path} 不存在\")\n",
    "        return None"
   ]
  },
  {
   "cell_type": "code",
   "execution_count": 22,
   "id": "fd19e3d7",
   "metadata": {},
   "outputs": [],
   "source": [
    "def split_chapter_chunks(data_path):\n",
    "    try:\n",
    "        with open(data_path, 'r', encoding='utf-8') as f:\n",
    "            data = f.readlines()\n",
    "        chunks = data[:-1]\n",
    "        chunks = ''.join(chunks)\n",
    "        return chunks\n",
    "    except FileNotFoundError:\n",
    "        print(f\"文件 {data_path} 不存在\")\n",
    "        return None\n",
    "    \n",
    "def get_dir_count(path = DATA_DIR_PATH):\n",
    "    try:\n",
    "        count = 0\n",
    "        with os.scandir(path) as entries:\n",
    "            for entry in entries:\n",
    "                if entry.is_file() and entry.name.startswith('data_') and entry.name.endswith('.txt'):\n",
    "                    count += 1\n",
    "        return count\n",
    "    except FileNotFoundError:\n",
    "        print(f\"文件夹 {path} 不存在\")\n",
    "        return None"
   ]
  },
  {
   "cell_type": "code",
   "execution_count": 23,
   "id": "dea2037b",
   "metadata": {},
   "outputs": [
    {
     "name": "stdout",
     "output_type": "stream",
     "text": [
      "文件 /root/yaolao/data/data_1.txt 不存在\n"
     ]
    }
   ],
   "source": [
    "test_data_path = '/root/yaolao/data/data_1.txt'\n",
    "chunks = split_chapter_chunks(test_data_path)"
   ]
  },
  {
   "cell_type": "code",
   "execution_count": 24,
   "id": "2669a7f7",
   "metadata": {},
   "outputs": [
    {
     "name": "stdout",
     "output_type": "stream",
     "text": [
      "7\n"
     ]
    }
   ],
   "source": [
    "file_count = get_dir_count()\n",
    "chunks_all= []\n",
    "for i in range(1, 8):\n",
    "# for i in range(1, file_count//8):\n",
    "    try:\n",
    "        data_path = os.path.join(DATA_DIR_PATH, f'data_{i}.txt')\n",
    "        chunks = split_chapter_chunks(data_path)\n",
    "        chunks_all.append(chunks)\n",
    "    except Exception as e:\n",
    "        print(f\"处理文件 {data_path} 时发生未知错误: {e}\")\n",
    "    \n",
    "print(len(chunks_all))"
   ]
  },
  {
   "cell_type": "code",
   "execution_count": 25,
   "id": "8b435e3a",
   "metadata": {},
   "outputs": [],
   "source": [
    "from sentence_transformers import SentenceTransformer\n",
    "\n",
    "model = SentenceTransformer(EMBEDDING_MODEL_PATH)\n",
    "def embed_chunks( chunks, batch_size=96):\n",
    "    embeddings = model.encode( \n",
    "                              chunks, \n",
    "                              batch_size=batch_size\n",
    "                              )\n",
    "    return embeddings.tolist()"
   ]
  },
  {
   "cell_type": "code",
   "execution_count": 26,
   "id": "5a443673",
   "metadata": {},
   "outputs": [
    {
     "name": "stderr",
     "output_type": "stream",
     "text": [
      "生成嵌入: 100%|██████████| 7/7 [02:05<00:00, 17.88s/chunks]\n"
     ]
    }
   ],
   "source": [
    "from tqdm import tqdm \n",
    "embeddings = [embed_chunks(chunks, 128) for chunks in tqdm(chunks_all, desc='生成嵌入', unit=\"chunks\")]"
   ]
  },
  {
   "cell_type": "code",
   "execution_count": 27,
   "id": "601c451e",
   "metadata": {},
   "outputs": [],
   "source": [
    "import chromadb\n",
    "\n",
    "chromadb_client = chromadb.PersistentClient(path=DB_PATH)\n",
    "chromadb_collection = chromadb_client.get_or_create_collection(name=\"my_collection\")\n",
    "\n",
    "def save_embeddings(chunks: list[str],embeddings: list[list[float]], batch_size=1000):\n",
    "    ids = [str(i) for i in range(len(chunks))]\n",
    "    \n",
    "    for i in tqdm(range(0, len(chunks), batch_size), desc=\"Saving embeddings\"):\n",
    "        batch_chunks = chunks[i:i + batch_size]\n",
    "        batch_embeddings = embeddings[i:i + batch_size]\n",
    "        batch_ids = ids[i:i + batch_size]\n",
    "        \n",
    "        chromadb_collection.add(\n",
    "            documents=batch_chunks,\n",
    "            embeddings=batch_embeddings,\n",
    "            ids=batch_ids\n",
    "        )\n",
    "\n",
    "def retrieve(query: str, top_k:int):\n",
    "    query_embedding = model.encode(query)\n",
    "    results = chromadb_collection.query(\n",
    "        query_embeddings =[query_embedding],\n",
    "        n_results=top_k\n",
    "    )\n",
    "    return results['documents'][0]"
   ]
  },
  {
   "cell_type": "code",
   "execution_count": 28,
   "id": "144de44b",
   "metadata": {},
   "outputs": [
    {
     "name": "stderr",
     "output_type": "stream",
     "text": [
      "Saving embeddings: 100%|██████████| 1/1 [00:00<00:00, 22.73it/s]\n"
     ]
    }
   ],
   "source": [
    "save_embeddings(chunks_all,embeddings)"
   ]
  },
  {
   "cell_type": "code",
   "execution_count": null,
   "id": "80abeaf4",
   "metadata": {},
   "outputs": [
    {
     "name": "stdout",
     "output_type": "stream",
     "text": [
      "萧炎的父亲叫什么名字?\n",
      "第1个相关段落：\n",
      "正文 第四章 云岚宗\n",
      " \n",
      "大厅中,萧战以及三位长老,正在颇为热切的与那位陌生老者交谈着,不过这位老者\n",
      "\n",
      "第2个相关段落：\n",
      "正文 第二章 斗气大陆\n",
      " \n",
      "月如银盘，漫天繁星。\n",
      "山崖之颠，萧炎斜躺在草地之上，嘴中叼中一根青草，微\n",
      "\n",
      "第3个相关段落：\n",
      "正文 第三章 客人\n",
      " \n",
      "床榻之上，少年闭目盘腿而坐，双手在身前摆出奇异的手印，胸膛轻微起伏，一呼一吸\n",
      "\n",
      "第4个相关段落：\n",
      "正文 第一章 陨落的天才\n",
      " \n",
      "“斗之力，三段！”\n",
      "望着测验魔石碑上面闪亮得甚至有些刺眼的五个大字，少\n",
      "\n",
      "第5个相关段落：\n",
      "正文 第七章 休！\n",
      " \n",
      "与纳兰嫣然所期待的有些不同，在她话出之后，面前的少年，身体猛的剧烈颤抖了起来\n",
      "\n"
     ]
    }
   ],
   "source": [
    "import re\n",
    "query = \"我的父亲叫什么名字?\"\n",
    "query = re.sub(r\"我\",\"萧炎\", query)\n",
    "query = re.sub(r\"你|您\", \"药老\", query)\n",
    "retrieve_chunks = retrieve(query, 5)\n",
    "for i, chunk in enumerate(retrieve_chunks):\n",
    "    print(f\"第{i+1}个相关段落：\\n{chunk[:50]}\\n\")"
   ]
  },
  {
   "cell_type": "code",
   "execution_count": 30,
   "id": "f278d5d0",
   "metadata": {},
   "outputs": [],
   "source": [
    "from sentence_transformers import CrossEncoder\n",
    "\n",
    "def rerank(query: str,retrieved_chunks: list[str] , top_k:int):\n",
    "    cross_encoder = CrossEncoder(CROSSENCODER_MODEL_PATH)\n",
    "    pairs = [(query, chunk) for chunk in retrieved_chunks]\n",
    "    scores = cross_encoder.predict(pairs)\n",
    "    \n",
    "    chuck_with_score = [(chunk, score)\n",
    "                        for chunk, score in zip(retrieved_chunks, scores)]\n",
    "    chuck_with_score.sort(key=lambda x: x[1], reverse=True)\n",
    "\n",
    "    return [chunk for chunk, _ in chuck_with_score][:top_k]"
   ]
  },
  {
   "cell_type": "code",
   "execution_count": 35,
   "id": "07e8ba1e",
   "metadata": {},
   "outputs": [
    {
     "name": "stdout",
     "output_type": "stream",
     "text": [
      "第1个相关段落：\n",
      "正文 第二章 斗气大陆\n",
      " \n",
      "月如银盘，漫天繁星。\n",
      "山崖之颠，萧炎斜躺在草地之上，嘴中叼中一根青草，微\n",
      "\n",
      "第2个相关段落：\n",
      "正文 第七章 休！\n",
      " \n",
      "与纳兰嫣然所期待的有些不同，在她话出之后，面前的少年，身体猛的剧烈颤抖了起来\n",
      "\n"
     ]
    }
   ],
   "source": [
    "reranked_chunks = rerank(query, retrieve_chunks, 2)\n",
    "for i,chunk in enumerate(reranked_chunks):\n",
    "    print(f\"第{i+1}个相关段落：\\n{chunk[:50]}\\n\")"
   ]
  },
  {
   "cell_type": "code",
   "execution_count": 36,
   "id": "9efae84a",
   "metadata": {},
   "outputs": [
    {
     "name": "stdout",
     "output_type": "stream",
     "text": [
      "正文 第二章 斗气大陆\n",
      " \n",
      "月如银盘，漫天繁星。\n",
      "山崖之颠，萧炎斜躺在草地之上，嘴中叼中一根青草，微微嚼动，任由那淡淡的苦涩在嘴中弥漫开来…\n",
      "举起有些白皙的手掌，挡在眼前，目光透过手指缝隙，遥望着天空上那轮巨大的银月。\n",
      "“唉…”想起下午的测试，萧炎轻叹了一口气，懒懒的抽回手掌，双手枕着脑袋，眼神有些恍惚…\n",
      "“十五年了呢…”低低的自喃声，忽然毫无边际的从少年嘴中轻吐了出来。\n",
      "在萧炎的心中，有一个仅有他自己知道的秘密：他并不是这个世界的人，或者说，萧炎的灵魂，并不属于这个世界，他来自一个名叫地球的蔚蓝星球，至于为什么会来到这里，这种离奇经过，他也无法解释，不过在生活了一段时间之后，他还是后知后觉的明白了过来：他穿越了！\n",
      "随着年龄的增长，对这块大陆，萧炎也是有了些模糊的了解…\n",
      "大陆名为斗气大陆，大陆上并没有小说中常见的各系魔法，而斗气，才是大陆的唯一主调！\n",
      "在这片大陆上，斗气的修炼，几乎已经在无数代人的努力之下，发展到了巅峰地步，而且由于斗气的不断繁衍，最后甚至扩散到了民间之中，这也导致，斗气，与人类的日常生活，变得息息相关，如此，斗气在大陆中的重要性，更是变得无可替代！\n",
      "因为斗气的极端繁衍，同时也导致从这条主线中分化出了无数条斗气修炼之法，所谓手有长短，分化出来的斗气修炼之法，自然也是有强有弱。\n",
      "经过归纳统计，斗气大陆将斗气功法的等级，由高到低分为四阶十二级：天.地.玄.黄！\n",
      "而每一阶，又分初，中，高三级！\n",
      "修炼的斗气功法等级的高低，也是决定日后成就高低的关键，比如修炼玄阶中级功法的人，自然要比修炼黄阶高级功法的同等级的人要强上几分。\n",
      "斗气大陆，分辩强弱，取决于三种条件。\n",
      "首先，最重要的，当然是自身的实力，如果本身实力只有一星斗者级别，那就算你修炼的是天阶高级的稀世功法，那也难以战胜一名修炼黄阶功法的斗师。\n",
      "其次，便是功法！同等级的强者，如果你的功法等级较之对方要高级许多，那么在比试之时，种种优势，一触既知。\n",
      "最后一种，名叫斗技！\n",
      "顾名思义，这是一种发挥斗气的特殊技能，斗技在大陆之上，也有着等级之分，总的说来，同样也是分为天地玄黄四级。\n",
      "斗气大陆斗技数不胜数，不过一般流传出来的大众斗技，大多都只是黄级左右，想要获得更高深的斗技，便必须加入宗派，或者大陆上的斗气学院。\n",
      "当然，一些依靠奇遇所得到前人遗留而下的功法，或者有着自己相配套的斗技，这种由功法衍变而出的斗技，互相配合起来，威力要更强上一些。\n",
      "依靠这三种条件，方才能判出究竟孰强孰弱，总的说来，如果能够拥有等级偏高的斗气功法，日后的好处，不言而喻…\n",
      "不过高级斗气修炼功法常人很难得到，流传在普通阶层的功法，顶多只是黄阶功法，一些比较强大的家族或者中小宗派，应该有玄阶的修炼之法，比如萧炎所在的家族，最为顶层的功法，便是只有族长才有资格修炼的：狂狮怒罡，这是一种风属性，并且是玄阶中级的斗气功法。\n",
      "玄阶之上，便是地阶了，不过这种高深功法，或许便只有那些超然势力与大帝国，方才可能拥有…\n",
      "至于天阶…已经几百年未曾出现了。\n",
      "从理论上来说，常人想要获得高级功法，基本上是难如登天，然而事无绝对，斗气大陆地域辽阔，万族林立，大陆之北，有号称力大无穷，可与兽魂合体的蛮族，大陆之南，也有各种智商奇高的高级魔兽家族，更有那以诡异阴狠而著名的黑暗种族等等…\n",
      "由于地域的辽阔，也有很多不为人知的无名隐士，在生命走到尽头之后，性子孤僻的他们，或许会将平生所创功法隐于某处，等待有缘人取之，在斗气大陆上，流传一句话：如果某日，你摔落悬崖，掉落山洞，不要惊慌，往前走两步，或许，你，将成为强者！\n",
      "此话，并不属假，大陆近千年历史中，并不泛这种依靠奇遇而成为强者的故事.\n",
      "这个故事所造成的后果，便是造就了大批每天等在悬崖边，准备跳崖得绝世功法的怀梦之人，当然了，这些人大多都是以断胳膊断腿归来…\n",
      "总之，这是一片充满奇迹，以及创造奇迹的大陆！\n",
      "当然，想要修炼斗气秘籍，至少需要成为一名真正的斗者之后，方才够资格，而现在的萧炎隔那段距离，似乎还很是遥远…\n",
      "“呸。”吐出嘴中的草根，萧炎忽然跳起身来，脸庞狰狞，对着夜空失态的咆哮道：“我草你奶奶的，把劳资穿过来当废物玩吗？草！”\n",
      "在前世，萧炎只是庸碌众生中极其平凡的一员，金钱，美人，这些东西与他根本就是两条平行线，永远没有交叉点，然而，当来到这片斗气大陆之后，萧炎却是惊喜的发现，因为两世的经验，他的灵魂，竟然比常人要强上许多！\n",
      "要知道，在斗气大陆，灵魂是天生的，或许它能随着年龄的增长而稍稍变强，可却从没有什么功法能够单独修炼灵魂，就算是天阶功法，也不可能！这是斗气大陆的常识。\n",
      "灵魂的强化，也造就出萧炎的修炼天赋，同样，也造就了他的天才之名。\n",
      "当一个平凡庸碌之人，在知道他有成为无数人瞩目的本钱之后，若是没有足够的定力，很难能够把握本心，很显然的，前世仅仅是普通人的萧炎，并没有这种超人般的定力，所以，在他开始修炼斗之气后，他选择了成为受人瞩目的天才之路，而并非是在安静中逐渐成长！\n",
      "若是没有意外发生的话，萧炎或许还真能够顶着天才的名头越长越大，不过，很可惜，在十一岁那年，天才之名，逐渐被突如其来的变故剥夺而去，而天才，也是在一夜间，沦落成了路人口中嘲笑的废物！\n",
      "……\n",
      "在咆哮了几嗓子之后，萧炎的情绪也是缓缓的平息了下来，脸庞再次回复了平日的落寞，事与至此，不管他如何暴怒，也是挽不回辛苦修炼而来的斗之气旋。\n",
      "苦涩的摇了摇头，萧炎心中其实有些委屈，毕竟他对自己身体究竟发生了什么事，也是一概不知，平日检查，却没有发现丝毫不对劲的地方，灵魂，随着年龄的增加，也是越来越强大，而且吸收斗之气的速度，比几年前最巅峰的状态还要强盛上几分，这种种条件，都说明自己的天赋从不曾减弱，可那些进入体内的斗之气，却都是无一例外的消失得干干净净，诡异的情形，让得萧炎黯然神伤…\n",
      "黯然的叹了口气，萧炎抬起手掌，手指上有一颗黑色戒指，戒指很是古朴，不知是何材料所铸，其上还绘有些模糊的纹路，这是母亲临死前送给他的唯一礼物，从四岁开始，他已经佩戴了十年，母亲的遗物，让得萧炎对它也是有着一份眷恋，手指轻轻的抚摸着戒指，萧炎苦笑道：“这几年，还真是辜负母亲的期望了…”\n",
      "深深的吐了一口气，萧炎忽然回转过头，对着漆黑的树林温暖的笑道：“父亲，您来了？”\n",
      "虽然斗之气只有三段，不过萧炎的灵魂感知，却是比一名五星斗者都要敏锐许多，在先前说起母亲的时候，他便察觉到了树林中的一丝动静。\n",
      "“呵呵，炎儿，这么晚了，怎么还待在这上面呢？”树林中，在静了片刻后，传出男子的关切笑声。\n",
      "树枝一阵摇摆，一位中年人跃了出来，脸庞上带着笑意，凝视着自己那站在月光下的儿子。\n",
      "中年人身着华贵的灰色衣衫，龙行虎步间颇有几分威严，脸上一对粗眉更是为其添了几分豪气，他便是萧家现任族长，同时也是萧炎的父亲，五星大斗师，萧战！\n",
      "“父亲，您不也还没休息么？”望着中年男子，萧炎脸庞上的笑容更浓了一分，虽然自己有着前世的记忆，不过自出生以来，面前这位父亲便是对自己百般宠爱，在自己落魄之后，宠爱不减反增，如此行径，却是让得萧炎甘心叫他一声父亲。\n",
      "“炎儿，还在想下午测验的事呢？”大步上前，萧战笑道。\n",
      "“呵呵，有什么好想的，意料之中而已。”萧炎少年老成的摇了摇头，笑容却是有些勉强。\n",
      "“唉…”望着萧炎那依旧有些稚嫩的清秀脸庞，萧战叹了一口气，沉默了片刻，忽然道：“炎儿，你十五岁了吧？”\n",
      "“嗯，父亲。”\n",
      "“再有一年，似乎…就该进行成年仪式了…”萧战苦笑道。\n",
      "“是的，父亲，还有一年！”手掌微微一紧，萧炎平静的回道，成年仪式代表什么，他自然非常清楚，只要度过了成年仪式，那么没有修炼潜力的他，便将会被取消进入斗气阁寻找斗气功法的资格，从而被分配到家族的各处产业之中，为家族打理一些普通事物，这是家族的族规，就算他的父亲是族长，那也不可能改变！\n",
      "毕竟，若是在二十五岁之前没有成为一名斗者，那将不会被家族所认可！\n",
      "“对不起了，炎儿，如果在一年后你的斗之气达不到七段，那么父亲也只得忍痛把你分配到家族的产业中去，毕竟，这个家族，还并不是父亲一人说了算，那几个老家伙，可随时等着父亲犯错呢…”望着平静的萧炎，萧战有些歉疚的叹道。\n",
      "“父亲，我会努力的，一年后，我一定会到达七段斗之气的！”萧炎微笑着安慰道。\n",
      "“一年，四段？呵呵，如果是以前，或许还有可能吧，不过现在…基本没半点机会…”虽然口中在安慰着父亲，不过萧炎心中却是自嘲的苦笑了起来。\n",
      "同样非常清楚萧炎底细的萧战，也只得叹息着应了一声，他知道一年修炼四段斗之气有多困难，轻拍了拍他的脑袋，忽然笑道：“不早了，回去休息吧，明天，家族中有贵客，你可别失了礼。”\n",
      "“贵客？谁啊？”萧炎好奇的问道。\n",
      "“明天就知道了.”对着萧炎挤了挤眼睛，萧战大笑而去，留下无奈的萧炎。\n",
      "“放心吧，父亲，我会尽力的！”抚摸着手指上的古朴戒指，萧炎抬头喃喃道。\n",
      "在萧炎抬头的那一刹，手指中的黑色古戒，却是忽然亮起了一抹极其微弱的诡异毫光，毫光眨眼便逝，没有引起任何人的察觉…\n",
      "\n"
     ]
    }
   ],
   "source": [
    "print(reranked_chunks[0])"
   ]
  }
 ],
 "metadata": {
  "kernelspec": {
   "display_name": "yaolao",
   "language": "python",
   "name": "python3"
  },
  "language_info": {
   "codemirror_mode": {
    "name": "ipython",
    "version": 3
   },
   "file_extension": ".py",
   "mimetype": "text/x-python",
   "name": "python",
   "nbconvert_exporter": "python",
   "pygments_lexer": "ipython3",
   "version": "3.10.18"
  }
 },
 "nbformat": 4,
 "nbformat_minor": 5
}
